{
 "cells": [
  {
   "cell_type": "markdown",
   "metadata": {},
   "source": [
    "(lesson2.1)=\n",
    "# Lesson Monday September 9th <br> {bdg-primary-line}`New content`\n",
    "\n",
    "During today's lesson it's demonstrated how you to use differential equations to solve structural problems.\n",
    "\n",
    "## Demonstration\n",
    "\n"
   ]
  },
  {
   "cell_type": "code",
   "execution_count": 7,
   "metadata": {
    "tags": [
     "remove-cell"
    ]
   },
   "outputs": [
    {
     "data": {
      "text/latex": [
       "$\\displaystyle - \\frac{32 C_{EB 1}}{3 EI} - \\frac{8 C_{EB 2}}{EI} - 4 C_{EB 3} + C_{EB 4} + \\frac{32 q}{3 EI} = 0$"
      ],
      "text/plain": [
       "Eq(-32*C_EB_1/(3*EI) - 8*C_EB_2/EI - 4*C_EB_3 + C_EB_4 + 32*q/(3*EI), 0)"
      ]
     },
     "metadata": {},
     "output_type": "display_data"
    },
    {
     "data": {
      "text/latex": [
       "$\\displaystyle \\frac{8 C_{EB 1}}{EI} + \\frac{4 C_{EB 2}}{EI} + C_{EB 3} - \\frac{32 q}{3 EI} = 0$"
      ],
      "text/plain": [
       "Eq(8*C_EB_1/EI + 4*C_EB_2/EI + C_EB_3 - 32*q/(3*EI), 0)"
      ]
     },
     "metadata": {},
     "output_type": "display_data"
    },
    {
     "data": {
      "text/latex": [
       "$\\displaystyle \\frac{32 C_{DE 1}}{3 EI} + \\frac{8 C_{DE 2}}{EI} + 4 C_{DE 3} - C_{DE 4} + C_{EB 4} = 0$"
      ],
      "text/plain": [
       "Eq(32*C_DE_1/(3*EI) + 8*C_DE_2/EI + 4*C_DE_3 - C_DE_4 + C_EB_4, 0)"
      ]
     },
     "metadata": {},
     "output_type": "display_data"
    },
    {
     "data": {
      "text/latex": [
       "$\\displaystyle - \\frac{8 C_{DE 1}}{EI} - \\frac{4 C_{DE 2}}{EI} - C_{DE 3} + C_{EB 3} = 0$"
      ],
      "text/plain": [
       "Eq(-8*C_DE_1/EI - 4*C_DE_2/EI - C_DE_3 + C_EB_3, 0)"
      ]
     },
     "metadata": {},
     "output_type": "display_data"
    },
    {
     "data": {
      "text/latex": [
       "$\\displaystyle - 4 C_{DE 1} - C_{DE 2} + C_{EB 2} = 0$"
      ],
      "text/plain": [
       "Eq(-4*C_DE_1 - C_DE_2 + C_EB_2, 0)"
      ]
     },
     "metadata": {},
     "output_type": "display_data"
    },
    {
     "data": {
      "text/latex": [
       "$\\displaystyle - C_{DE 1} + C_{EB 1} = 0$"
      ],
      "text/plain": [
       "Eq(-C_DE_1 + C_EB_1, 0)"
      ]
     },
     "metadata": {},
     "output_type": "display_data"
    },
    {
     "data": {
      "text/latex": [
       "$\\displaystyle C_{AD 1} + C_{DE 1} = 0$"
      ],
      "text/plain": [
       "Eq(C_AD_1 + C_DE_1, 0)"
      ]
     },
     "metadata": {},
     "output_type": "display_data"
    },
    {
     "data": {
      "text/latex": [
       "$\\displaystyle A_{v} + \\frac{3 C_{AC 1}}{5} + C_{AD 1} = 0$"
      ],
      "text/plain": [
       "Eq(A_v + 3*C_AC_1/5 + C_AD_1, 0)"
      ]
     },
     "metadata": {},
     "output_type": "display_data"
    },
    {
     "data": {
      "text/latex": [
       "$\\displaystyle C_{AC 1} + F = 0$"
      ],
      "text/plain": [
       "Eq(C_AC_1 + F, 0)"
      ]
     },
     "metadata": {},
     "output_type": "display_data"
    },
    {
     "data": {
      "text/latex": [
       "$\\displaystyle C_{AC 2} = 0$"
      ],
      "text/plain": [
       "Eq(C_AC_2, 0)"
      ]
     },
     "metadata": {},
     "output_type": "display_data"
    },
    {
     "data": {
      "text/latex": [
       "$\\displaystyle \\frac{9 C_{AD 1}}{EA} + C_{AD 2} = 0$"
      ],
      "text/plain": [
       "Eq(9*C_AD_1/EA + C_AD_2, 0)"
      ]
     },
     "metadata": {},
     "output_type": "display_data"
    },
    {
     "data": {
      "text/latex": [
       "$\\displaystyle \\frac{10 C_{AC 1}}{EA} + C_{AC 2} = 0$"
      ],
      "text/plain": [
       "Eq(10*C_AC_1/EA + C_AC_2, 0)"
      ]
     },
     "metadata": {},
     "output_type": "display_data"
    },
    {
     "data": {
      "text/latex": [
       "$\\displaystyle C_{DE 2} = 0$"
      ],
      "text/plain": [
       "Eq(C_DE_2, 0)"
      ]
     },
     "metadata": {},
     "output_type": "display_data"
    },
    {
     "data": {
      "text/plain": [
       "[]"
      ]
     },
     "metadata": {},
     "output_type": "display_data"
    }
   ],
   "source": [
    "import sympy as sym\n",
    "\n",
    "x = sym.symbols('x')\n",
    "\n",
    "q = sym.symbols('q',positive=True)\n",
    "EI = sym.symbols('EI',positive=True)\n",
    "EA = sym.symbols('EA',positive=True)\n",
    "F = sym.symbols('F',positive=True)\n",
    "x_DE = sym.symbols('x_DE',positive=True)\n",
    "x_EB = sym.symbols('x_EB',positive=True)\n",
    "A_v = sym.symbols('A_v')\n",
    "\n",
    "q_AC = 0\n",
    "q_AD = 0\n",
    "q_CD = 0\n",
    "q_DE = 0\n",
    "q_EB = q\n",
    "\n",
    "C_AC_1, C_AC_2 = sym.symbols('C_AC_1 C_AC_2')\n",
    "C_AD_1, C_AD_2 = sym.symbols('C_AD_1 C_AD_2')\n",
    "C_DE_1, C_DE_2, C_DE_3, C_DE_4 = sym.symbols('C_DE_1 C_DE_2 C_DE_3 C_DE_4')\n",
    "C_EB_1, C_EB_2, C_EB_3, C_EB_4 = sym.symbols('C_EB_1 C_EB_2 C_EB_3 C_EB_4')\n",
    "\n",
    "N_AD = -sym.integrate(q_AD, x) + C_AD_1\n",
    "eps_AD  = N_AD/EA\n",
    "u_AD = sym.integrate(eps_AD, x) + C_AD_2\n",
    "\n",
    "N_AC = -sym.integrate(q_AC, x) + C_AC_1\n",
    "eps_AC = N_AC/EA\n",
    "u_AC = sym.integrate(eps_AC, x) + C_AC_2\n",
    "\n",
    "V_DE = -sym.integrate(q_DE, x) + C_DE_1\n",
    "M_DE = sym.integrate(V_DE, x) + C_DE_2\n",
    "kappa_DE = M_DE/EI\n",
    "phi_DE = sym.integrate(kappa_DE, x) + C_DE_3\n",
    "w_DE = -sym.integrate(phi_DE, x) + C_DE_4\n",
    "\n",
    "V_EB = -sym.integrate(q_EB, x) + C_EB_1\n",
    "M_EB = sym.integrate(V_EB, x) + C_EB_2\n",
    "kappa_EB = M_EB/EI\n",
    "phi_EB = sym.integrate(kappa_EB, x) + C_EB_3\n",
    "w_EB = -sym.integrate(phi_EB, x) + C_EB_4\n",
    "\n",
    "eq1 = sym.Eq(w_EB.subs(x,4),0)\n",
    "eq2 = sym.Eq(phi_EB.subs(x,4),0)\n",
    "eq3 = sym.Eq(w_EB.subs(x,0)-w_DE.subs(x,4),0)\n",
    "eq4 = sym.Eq(phi_EB.subs(x,0)-phi_DE.subs(x,4),0)\n",
    "eq5 = sym.Eq(M_EB.subs(x,0) - M_DE.subs(x,4),0)\n",
    "eq6 = sym.Eq(V_EB.subs(x,0) - V_DE.subs(x,4),0)\n",
    "eq7 = sym.Eq(V_DE.subs(x,0) + N_AD.subs(x,0),0)\n",
    "eq8 = sym.Eq(N_AD.subs(x,9) + A_v + N_AC.subs(x,0)/5*3,0)\n",
    "eq9 = sym.Eq(F + N_AC.subs(x,0),0)\n",
    "eq10 = sym.Eq(u_AC.subs(x,0),0)\n",
    "eq11 = sym.Eq(u_AD.subs(x,9),0)\n",
    "eq12 = sym.Eq(u_AC.subs(x,10),0)\n",
    "eq13 = sym.Eq(M_DE.subs(x,0),0)\n",
    "\n",
    "display(eq1,eq2,eq3,eq4,eq5,eq6,eq7,eq8,eq9,eq10,eq11,eq12,eq13)\n",
    "\n",
    "sol = sym.solve([eq1,eq2,eq3,eq4,eq5,eq6,eq7,eq8,eq9,eq10,eq11,eq12,eq13],(C_AC_1,C_AC_2,C_AD_1,C_AD_2,C_DE_1,C_DE_2,C_DE_3,C_DE_4,C_EB_1,C_EB_2,C_EB_3,C_EB_4,A_v))\n",
    "display(sol)"
   ]
  },
  {
   "cell_type": "code",
   "execution_count": null,
   "metadata": {},
   "outputs": [],
   "source": []
  }
 ],
 "metadata": {
  "kernelspec": {
   "display_name": "base",
   "language": "python",
   "name": "python3"
  },
  "language_info": {
   "codemirror_mode": {
    "name": "ipython",
    "version": 3
   },
   "file_extension": ".py",
   "mimetype": "text/x-python",
   "name": "python",
   "nbconvert_exporter": "python",
   "pygments_lexer": "ipython3",
   "version": "3.9.18"
  }
 },
 "nbformat": 4,
 "nbformat_minor": 2
}

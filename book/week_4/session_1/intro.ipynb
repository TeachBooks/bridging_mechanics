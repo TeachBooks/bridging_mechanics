{
 "cells": [
  {
   "cell_type": "markdown",
   "metadata": {},
   "source": [
    "(lesson4.1)=\n",
    "# Lesson Monday September 23th\n",
    "\n",
    "Given the following structure.\n",
    "\n",
    "```{figure} intro_data/structure.svg\n",
    ":align: center\n",
    "```\n",
    "\n",
    "1. Find the displacement of $\\text{R}$\n",
    "\n",
    "2. Draw the displaced structure\n",
    "\n",
    "\n",
    "````{admonition} Solution assignment 1\n",
    ":class: tip, dropdown\n",
    "\n",
    "$96.7 \\text{ mm}$ ↓\n",
    "````\n",
    "\n",
    "````{admonition} Solution assignment 2\n",
    ":class: tip, dropdown\n",
    "\n",
    "```{figure} intro_data/ans.svg\n",
    ":align: center\n",
    "```\n",
    "\n",
    "````\n"
   ]
  },
  {
   "cell_type": "code",
   "execution_count": 15,
   "metadata": {
    "tags": [
     "remove-cell"
    ]
   },
   "outputs": [
    {
     "data": {
      "text/plain": [
       "180"
      ]
     },
     "metadata": {},
     "output_type": "display_data"
    },
    {
     "data": {
      "text/plain": [
       "176"
      ]
     },
     "metadata": {},
     "output_type": "display_data"
    },
    {
     "data": {
      "text/plain": [
       "0.024"
      ]
     },
     "metadata": {},
     "output_type": "display_data"
    },
    {
     "data": {
      "text/plain": [
       "0.024"
      ]
     },
     "metadata": {},
     "output_type": "display_data"
    },
    {
     "data": {
      "text/plain": [
       "0.013"
      ]
     },
     "metadata": {},
     "output_type": "display_data"
    },
    {
     "data": {
      "text/plain": [
       "0.052"
      ]
     },
     "metadata": {},
     "output_type": "display_data"
    },
    {
     "data": {
      "text/plain": [
       "0.005"
      ]
     },
     "metadata": {},
     "output_type": "display_data"
    },
    {
     "data": {
      "text/plain": [
       "0.015"
      ]
     },
     "metadata": {},
     "output_type": "display_data"
    },
    {
     "data": {
      "text/plain": [
       "0.048"
      ]
     },
     "metadata": {},
     "output_type": "display_data"
    },
    {
     "data": {
      "text/plain": [
       "0.04"
      ]
     },
     "metadata": {},
     "output_type": "display_data"
    },
    {
     "data": {
      "text/plain": [
       "0.013"
      ]
     },
     "metadata": {},
     "output_type": "display_data"
    },
    {
     "data": {
      "text/plain": [
       "0.052"
      ]
     },
     "metadata": {},
     "output_type": "display_data"
    },
    {
     "data": {
      "text/plain": [
       "0.0039"
      ]
     },
     "metadata": {},
     "output_type": "display_data"
    },
    {
     "data": {
      "text/plain": [
       "0.0208"
      ]
     },
     "metadata": {},
     "output_type": "display_data"
    },
    {
     "data": {
      "text/plain": [
       "0.0258"
      ]
     },
     "metadata": {},
     "output_type": "display_data"
    },
    {
     "data": {
      "text/plain": [
       "0.067"
      ]
     },
     "metadata": {},
     "output_type": "display_data"
    },
    {
     "data": {
      "text/plain": [
       "0.00515"
      ]
     },
     "metadata": {},
     "output_type": "display_data"
    },
    {
     "data": {
      "text/plain": [
       "0.0567"
      ]
     },
     "metadata": {},
     "output_type": "display_data"
    },
    {
     "data": {
      "text/plain": [
       "0.09670000000000001"
      ]
     },
     "metadata": {},
     "output_type": "display_data"
    },
    {
     "data": {
      "text/plain": [
       "0.024"
      ]
     },
     "metadata": {},
     "output_type": "display_data"
    },
    {
     "data": {
      "text/plain": [
       "0.07200000000000001"
      ]
     },
     "metadata": {},
     "output_type": "display_data"
    }
   ],
   "source": [
    "import sympy as sym\n",
    "\n",
    "F_1, F_2 = sym.symbols('F_1 F_2')\n",
    "\n",
    "F_2 = 11 * 16\n",
    "F_1 = 5 * 36\n",
    "\n",
    "display(F_1, F_2)\n",
    "\n",
    "N_OR = F_2 / 11 * 5\n",
    "N_KQ = F_2 - N_OR\n",
    "N_JP = N_OR / 8 * 6\n",
    "N_IM = N_OR - N_JP\n",
    "N_GJ = (N_IM*2 + N_JP*10 + F_1 * 8) / 10\n",
    "N_DH = F_1 + N_IM + N_JP - N_GJ\n",
    "N_BK = N_KQ / 2\n",
    "N_CK = N_BK\n",
    "\n",
    "#display(N_OR, N_KQ, N_JP, N_IM, N_GJ, N_DH, N_BK, N_CK)\n",
    "\n",
    "L_BK = 4\n",
    "L_CK = 4\n",
    "L_DH = 2\n",
    "L_GJ = 2\n",
    "L_IM = 2\n",
    "L_JP = 2\n",
    "L_KQ = 4\n",
    "L_OR = 4\n",
    "\n",
    "EA = sym.symbols('EA')\n",
    "\n",
    "EA = 8000\n",
    "\n",
    "deltaL_BK = N_BK * L_BK / EA\n",
    "deltaL_CK = N_CK * L_CK / EA\n",
    "deltaL_DH = N_DH * L_DH / EA\n",
    "deltaL_GJ = N_GJ * L_GJ / EA\n",
    "deltaL_IM = N_IM * L_IM / EA\n",
    "deltaL_JP = N_JP * L_JP / EA\n",
    "deltaL_KQ = N_KQ * L_KQ / EA\n",
    "deltaL_OR = N_OR * L_OR / EA\n",
    "\n",
    "display(deltaL_BK, deltaL_CK, deltaL_DH, deltaL_GJ, deltaL_IM, deltaL_JP, deltaL_KQ, deltaL_OR)\n",
    "\n",
    "u_H = deltaL_DH\n",
    "u_J = deltaL_GJ\n",
    "phi_HJ = (u_J - u_H) / 10\n",
    "u_I = u_H + phi_HJ * 2\n",
    "u_M = u_I + deltaL_IM\n",
    "u_P = u_J + deltaL_JP\n",
    "phi_MP = (u_P- u_M)/8\n",
    "u_O = u_M + phi_MP * 6\n",
    "U_R = u_O + deltaL_OR\n",
    "u_K = deltaL_BK\n",
    "u_Q = u_K + deltaL_KQ\n",
    "\n",
    "display(u_H, u_J, phi_HJ, u_I, u_M, u_P, phi_MP, u_O, U_R, u_K, u_Q)"
   ]
  }
 ],
 "metadata": {
  "kernelspec": {
   "display_name": "base",
   "language": "python",
   "name": "python3"
  },
  "language_info": {
   "codemirror_mode": {
    "name": "ipython",
    "version": 3
   },
   "file_extension": ".py",
   "mimetype": "text/x-python",
   "name": "python",
   "nbconvert_exporter": "python",
   "pygments_lexer": "ipython3",
   "version": "3.9.18"
  }
 },
 "nbformat": 4,
 "nbformat_minor": 2
}

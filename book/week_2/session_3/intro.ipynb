{
 "cells": [
  {
   "cell_type": "markdown",
   "metadata": {},
   "source": [
    "(lesson2.3)=\n",
    "# Lesson Friday September 13th"
   ]
  },
  {
   "cell_type": "markdown",
   "metadata": {},
   "source": [
    "Given is the following structure:\n",
    "\n",
    "```{figure} ./intro_data/cable.svg\n",
    ":align: center\n",
    "```\n",
    "\n",
    "1. Find the displacement halfway using equilibrium in a specific cross-section\n",
    "2. Find the displacement halfway using the differential equations\n",
    "\n",
    "```{figure} ./intro_data/beam.svg\n",
    ":align: center\n",
    "```\n",
    "\n",
    "3. Find the moment distribution for the beam."
   ]
  },
  {
   "cell_type": "markdown",
   "metadata": {},
   "source": [
    "````{admonition} Solution assignment 1 and 2\n",
    ":class: tip, dropdown\n",
    "\n",
    "${w_{\\rm{C}}} =\\cfrac {1}{18} \\approx {\\rm{0}}{\\rm{.0556}}{\\text{ m}}$ ↓\n",
    "````\n",
    "\n",
    "````{admonition} Solution assignment 2\n",
    ":class: tip, dropdown\n",
    "$0.02 \\text{ rad}$ ⟲\n",
    "\n",
    "````\n",
    "\n",
    "````{admonition} Solution assignment 3\n",
    ":class: tip, dropdown\n",
    "\n",
    "```{figure} ./intro_data/ans.svg\n",
    ":align: center\n",
    "```\n",
    "\n",
    "$M_\\text{BC}\\left(x_\\text{BC}\\right) = - 30 x_\\text{BC} $ \n",
    "$M_\\text{CA}\\left(x_\\text{CA}\\right) = - 1.25 x_\\text{CA}^{2} - 60.0 x_\\text{CA} - 120$\n",
    "````"
   ]
  },
  {
   "cell_type": "code",
   "execution_count": 12,
   "metadata": {
    "tags": [
     "remove-cell"
    ]
   },
   "outputs": [
    {
     "data": {
      "text/plain": [
       "{C_1: -30, C_2: 0, C_3: -60, C_4: -120}"
      ]
     },
     "metadata": {},
     "output_type": "display_data"
    },
    {
     "data": {
      "text/latex": [
       "$\\displaystyle -525.0$"
      ],
      "text/plain": [
       "-525.000000000000"
      ]
     },
     "metadata": {},
     "output_type": "display_data"
    },
    {
     "data": {
      "text/plain": [
       "'- 30 x'"
      ]
     },
     "metadata": {},
     "output_type": "display_data"
    },
    {
     "data": {
      "text/plain": [
       "'- 1.25 x^{2} - 60.0 x - 120'"
      ]
     },
     "metadata": {},
     "output_type": "display_data"
    }
   ],
   "source": [
    "import sympy as sym\n",
    "\n",
    "x, C_1, C_2, C_3, C_4 = sym.symbols('x C_1 C_2 C_3 C_4')\n",
    "\n",
    "L, F, q, = sym.symbols('L F q')\n",
    "\n",
    "L = 4\n",
    "F = 30\n",
    "q = 10\n",
    "\n",
    "q_1 = 0\n",
    "V_1 = -sym.integrate(q_1, x) + C_1\n",
    "M_1 = sym.integrate(V_1, x) + C_2\n",
    "\n",
    "q_2 = q/L\n",
    "V_2 = -sym.integrate(q_2, x) + C_3\n",
    "M_2 = sym.integrate(V_2, x) + C_4\n",
    "\n",
    "eq1 = sym.Eq(V_1.subs(x,0),-F)\n",
    "eq2 = sym.Eq(M_1.subs(x,0),0)\n",
    "eq3 = sym.Eq(V_1.subs(x,L),V_2.subs(x,0)+F)\n",
    "eq4 = sym.Eq(M_1.subs(x,L),M_2.subs(x,0))\n",
    "\n",
    "sol = sym.solve([eq1,eq2,eq3,eq4],(C_1,C_2,C_3,C_4))\n",
    "display(sol)\n",
    "\n",
    "display(M_2.subs(sol).simplify().subs(x,L*1.5))\n",
    "display(sym.latex(M_1.subs(sol)))\n",
    "display(sym.latex(M_2.subs(sol)))"
   ]
  }
 ],
 "metadata": {
  "kernelspec": {
   "display_name": "base",
   "language": "python",
   "name": "python3"
  },
  "language_info": {
   "codemirror_mode": {
    "name": "ipython",
    "version": 3
   },
   "file_extension": ".py",
   "mimetype": "text/x-python",
   "name": "python",
   "nbconvert_exporter": "python",
   "pygments_lexer": "ipython3",
   "version": "3.9.18"
  }
 },
 "nbformat": 4,
 "nbformat_minor": 2
}

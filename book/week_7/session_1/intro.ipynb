{
 "cells": [
  {
   "cell_type": "markdown",
   "metadata": {},
   "source": [
    "(lesson7.1)=\n",
    "# Lesson October 14th\n",
    "\n",
    "During today's lesson it's demonstrated how you to use the displacement method.\n",
    "\n",
    "## Demonstration extension\n",
    "Given a structure as shown below:\n",
    "\n",
    "```{figure} ./intro_data/structure.svg\n",
    ":align: center\n",
    "\n",
    "Structure\n",
    "```\n",
    "\n",
    "For the displacement method, it's needed to choose one or multiple degrees of freedom which describe the displacement of the full structure. Then, using equilibrium, this displacement can be solved for. In this case, that can be the horizontal and vertical displacement of $\\text{S}$. A positive displacement is arbitrarily chosen for both of them:\n",
    "\n",
    "```{figure} ./intro_data/displaced.svg\n",
    ":align: center\n",
    "\n",
    "Displaced structure with assumed $u_\\text{B,h}$ and $u_\\text{b,v}$\n",
    "```\n",
    "\n",
    "This leads to extension of the elements:\n",
    "\n",
    "- $\\Delta L_{\\text{AS}} = + u_\\text{S,h}$\n",
    "- $\\Delta L_{\\text{SB}} = - u_\\text{S,h}$\n",
    "\n",
    "And for element $\\text{SC}$ in detail:\n",
    "\n",
    "```{figure} ./intro_data/displaced_SC.svg\n",
    ":align: center\n",
    "\n",
    "Displaced $\\text{SC}$\n",
    "```\n",
    "\n",
    "- $\\Delta L_{\\text{SC}} = - \\frac{4}{5} u_\\text{S,v} - \\frac{3}{5} u_\\text{S,h}$\n",
    "\n",
    "Applying the constitutive and kinematic relation $ N = EA \\cfrac{\\Delta L}{L}$ gives:\n",
    "\n",
    "- $N_{\\text{AS}} = 1000 u_\\text{S,h}$\n",
    "- $N_{\\text{SB}} = - 2500 u_\\text{S,h}$\n",
    "- $N_{\\text{SC}} = - 800 u_\\text{S,h} - 600 u_\\text{S,v} $\n",
    "\n",
    "Now, the equilibrium of node $\\text{S}$ can be analysed:\n",
    "\n",
    "```{figure} ./intro_data/equilibrium_S.svg\n",
    ":align: center\n",
    "\n",
    "Free-body-diagram node $\\text{S}$\n",
    "```\n",
    "\n",
    "- $\\Sigma F_\\text{h}^\\text{S} = 0 \\to -N_\\text{AS} + N_\\text{SB} + \\frac{3}{5} N_\\text{SC} = 0$\n",
    "- $\\Sigma F_\\text{v}^\\text{S} = 0 \\to 40 + \\frac{4}{5} N_\\text{SC} = 0$\n",
    "\n",
    "This gives:\n",
    "\n",
    "- $u_\\text{S,h} = -\\cfrac{3}{350} \\text{ m} \\approx -8.57 \\text{ mm}$\n",
    "- $u_\\text{\\S,v} = \\cfrac{193}{2800}  \\text{ m} \\approx 68.9 \\text{ mm}$\n",
    "\n",
    "```{figure} ./intro_data/displaced_sol.svg\n",
    ":align: center\n",
    "\n",
    "Final displaced structure\n",
    "```\n",
    "\n",
    "Evaluating our previous expressions for the nodal forces gives:\n",
    "- $N_{\\text{AS}} \\approx -8.57 \\text{ kN}$\n",
    "- $N_{\\text{SB}} \\approx 21.4 \\text{ kN}$\n",
    "- $N_{\\text{SC}} = -50 \\text{ kN} $\n"
   ]
  },
  {
   "cell_type": "code",
   "execution_count": 11,
   "metadata": {
    "tags": [
     "remove-cell"
    ]
   },
   "outputs": [
    {
     "data": {
      "text/latex": [
       "$\\displaystyle 1000 u_{bh}$"
      ],
      "text/plain": [
       "1000*u_bh"
      ]
     },
     "metadata": {},
     "output_type": "display_data"
    },
    {
     "data": {
      "text/latex": [
       "$\\displaystyle - 2500 u_{bh}$"
      ],
      "text/plain": [
       "-2500*u_bh"
      ]
     },
     "metadata": {},
     "output_type": "display_data"
    },
    {
     "data": {
      "text/latex": [
       "$\\displaystyle - 600 u_{bh} - 800 u_{bv}$"
      ],
      "text/plain": [
       "-600*u_bh - 800*u_bv"
      ]
     },
     "metadata": {},
     "output_type": "display_data"
    },
    {
     "data": {
      "text/plain": [
       "{u_bh: -3/350, u_bv: 193/2800}"
      ]
     },
     "metadata": {},
     "output_type": "display_data"
    },
    {
     "data": {
      "text/latex": [
       "$\\displaystyle u_{bh}$"
      ],
      "text/plain": [
       "u_bh"
      ]
     },
     "metadata": {},
     "output_type": "display_data"
    },
    {
     "data": {
      "text/latex": [
       "$\\displaystyle -0.00857142857142857$"
      ],
      "text/plain": [
       "-0.00857142857142857"
      ]
     },
     "metadata": {},
     "output_type": "display_data"
    },
    {
     "data": {
      "text/latex": [
       "$\\displaystyle u_{bv}$"
      ],
      "text/plain": [
       "u_bv"
      ]
     },
     "metadata": {},
     "output_type": "display_data"
    },
    {
     "data": {
      "text/latex": [
       "$\\displaystyle 0.0689285714285714$"
      ],
      "text/plain": [
       "0.0689285714285714"
      ]
     },
     "metadata": {},
     "output_type": "display_data"
    },
    {
     "data": {
      "text/plain": [
       "'N_AS ='"
      ]
     },
     "metadata": {},
     "output_type": "display_data"
    },
    {
     "data": {
      "text/latex": [
       "$\\displaystyle -8.57142857142857$"
      ],
      "text/plain": [
       "-8.57142857142857"
      ]
     },
     "metadata": {},
     "output_type": "display_data"
    },
    {
     "data": {
      "text/plain": [
       "'N_SB ='"
      ]
     },
     "metadata": {},
     "output_type": "display_data"
    },
    {
     "data": {
      "text/latex": [
       "$\\displaystyle 21.4285714285714$"
      ],
      "text/plain": [
       "21.4285714285714"
      ]
     },
     "metadata": {},
     "output_type": "display_data"
    },
    {
     "data": {
      "text/plain": [
       "'N_SC ='"
      ]
     },
     "metadata": {},
     "output_type": "display_data"
    },
    {
     "data": {
      "text/latex": [
       "$\\displaystyle -50.0$"
      ],
      "text/plain": [
       "-50.0000000000000"
      ]
     },
     "metadata": {},
     "output_type": "display_data"
    }
   ],
   "source": [
    "import sympy as sym\n",
    "\n",
    "EA = sym.nsimplify(5e3)\n",
    "\n",
    "u_bh, u_bv = sym.symbols('u_bh u_bv')\n",
    "\n",
    "deltaL_AS = + u_bh\n",
    "deltaL_SB = - u_bh\n",
    "deltaL_SC = - u_bv * 4 / 5 - u_bh / 5 * 3\n",
    "\n",
    "N_AS = EA  * deltaL_AS / 5\n",
    "N_SB = EA  * deltaL_SB / 2\n",
    "N_SC = EA  * deltaL_SC / 5\n",
    "\n",
    "display(N_AS, N_SB, N_SC)\n",
    "\n",
    "eq1 = sym.Eq(-N_AS + N_SB + N_SC / 5 * 3 , 0)\n",
    "eq2 = sym.Eq(40 + N_SC / 5 * 4, 0)\n",
    "\n",
    "sol = sym.solve([eq1, eq2], (u_bh, u_bv))\n",
    "display(sol)\n",
    "\n",
    "for k, v in sol.items():\n",
    "    display(k, v.evalf())   \n",
    "\n",
    "display('N_AS =', N_AS.subs(sol).evalf())\n",
    "display('N_SB =', N_SB.subs(sol).evalf())\n",
    "display('N_SC =', N_SC.subs(sol).evalf())"
   ]
  },
  {
   "cell_type": "markdown",
   "metadata": {},
   "source": [
    "## Demonstration bending\n",
    "Given a structure as shown below:\n",
    "\n",
    "```{figure} ./intro_data/structure2.svg\n",
    ":align: center\n",
    "\n",
    "Structure\n",
    "```\n",
    "\n",
    "Again, it's needed to choose one or multiple degrees of freedom which describe the displacement of the full structure. In this case, that can be the rotation of $\\text{D}$. A positive displacement is arbitrarily chosen:\n",
    "\n",
    "```{figure} ./intro_data/displaced_2.svg\n",
    ":align: center\n",
    "\n",
    "Displaced structure with assumed $\\varphi_\\text{D}$\n",
    "```\n",
    "\n",
    "As the nodes will not displace, each element can be analysed using forget-me-nots. The directions of the bending moments are arbitrarily chosen:\n",
    "\n",
    "```{figure} ./intro_data/elem_AD.svg\n",
    ":align: center\n",
    "\n",
    "Isolated element $\\text{AD}$\n",
    "```\n",
    "\n",
    "The rotation $\\varphi$ can be calculated using forget-me-nots as: $\\varphi_\\text{D} = \\cfrac{5M_\\text{D}^\\text{AD}}{3 EI} + \\cfrac{ 15 \\cdot 5}{6 EI}$\n",
    "This can be rewritten as $M_\\text{D}^\\text{AD} = 72000 \\varphi_\\text{D} - 7.5 $\n",
    "\n",
    "Similarly, for the other elements:\n",
    "\n",
    "```{figure} ./intro_data/DB.svg\n",
    ":align: center\n",
    "\n",
    "Isolated element $\\text{DB}$\n",
    "```\n",
    "\n",
    "$M_\\text{D}^\\text{DB} = 180000 \\varphi_\\text{D} - 6 $\n",
    "\n",
    "```{figure} ./intro_data/DC.svg\n",
    ":align: center\n",
    "\n",
    "Isolated element $\\text{DC}$\n",
    "```\n",
    "\n",
    "$M_\\text{D}^\\text{DC} = -72000 \\varphi_\\text{D}$\n",
    "\n",
    "Now, the equilibrium of node $\\text{D}$ can be analysed:\n",
    "\n",
    "```{figure} ./intro_data/FBD_S.svg\n",
    ":align: center\n",
    "\n",
    "Free-body-diagram node $\\text{D}$ only showing bending moments\n",
    "```\n",
    "\n",
    "$\\Sigma T = 0 \\to -M_\\text{D}^\\text{AD} + M_\\text{D}^\\text{DB} + M_\\text{D}^\\text{DC} = 0$\n",
    "\n",
    "This gives $\\varphi = \\cfrac{5}{9EI} = \\cfrac{1}{216000} = 4.63 \\cdot 10^{-6} \\text{ rad}$\n",
    "\n",
    "Evaluating our previous expressions for the moments gives:\n",
    "- $M_\\text{D}^{\\text{AD}} = -\\cfrac{43}{6} \\approx -7.17 \\text{ kNm}$\n",
    "- $M_\\text{D}^{\\text{DB}} = -\\cfrac{41}{6} \\approx -6.83 \\text{ kNm}$\n",
    "- $M_\\text{D}^{\\text{DC}} = -\\cfrac{1}{3} \\approx - 0.333 \\text{ kNm} $\n",
    "\n",
    "This gives the following M-line:\n",
    "\n",
    "```{figure} ./intro_data/M-line.svg\n",
    ":align: center\n",
    "\n",
    "Moment distribution\n",
    "```"
   ]
  },
  {
   "cell_type": "code",
   "execution_count": 20,
   "metadata": {
    "tags": [
     "remove-cell"
    ]
   },
   "outputs": [
    {
     "data": {
      "text/plain": [
       "'phi ='"
      ]
     },
     "metadata": {},
     "output_type": "display_data"
    },
    {
     "data": {
      "text/latex": [
       "$\\displaystyle \\frac{1}{216000}$"
      ],
      "text/plain": [
       "1/216000"
      ]
     },
     "metadata": {},
     "output_type": "display_data"
    },
    {
     "data": {
      "text/plain": [
       "'M_DB ='"
      ]
     },
     "metadata": {},
     "output_type": "display_data"
    },
    {
     "data": {
      "text/latex": [
       "$\\displaystyle - \\frac{41}{6}$"
      ],
      "text/plain": [
       "-41/6"
      ]
     },
     "metadata": {},
     "output_type": "display_data"
    },
    {
     "data": {
      "text/plain": [
       "'M_DB ='"
      ]
     },
     "metadata": {},
     "output_type": "display_data"
    },
    {
     "data": {
      "text/latex": [
       "$\\displaystyle -6.83333333333333$"
      ],
      "text/plain": [
       "-6.83333333333333"
      ]
     },
     "metadata": {},
     "output_type": "display_data"
    },
    {
     "data": {
      "text/plain": [
       "'M_DC ='"
      ]
     },
     "metadata": {},
     "output_type": "display_data"
    },
    {
     "data": {
      "text/latex": [
       "$\\displaystyle - \\frac{1}{3}$"
      ],
      "text/plain": [
       "-1/3"
      ]
     },
     "metadata": {},
     "output_type": "display_data"
    },
    {
     "data": {
      "text/plain": [
       "'M_DC ='"
      ]
     },
     "metadata": {},
     "output_type": "display_data"
    },
    {
     "data": {
      "text/latex": [
       "$\\displaystyle -0.333333333333333$"
      ],
      "text/plain": [
       "-0.333333333333333"
      ]
     },
     "metadata": {},
     "output_type": "display_data"
    },
    {
     "data": {
      "text/plain": [
       "'M_AD ='"
      ]
     },
     "metadata": {},
     "output_type": "display_data"
    },
    {
     "data": {
      "text/latex": [
       "$\\displaystyle - \\frac{43}{6}$"
      ],
      "text/plain": [
       "-43/6"
      ]
     },
     "metadata": {},
     "output_type": "display_data"
    },
    {
     "data": {
      "text/plain": [
       "'M_AD ='"
      ]
     },
     "metadata": {},
     "output_type": "display_data"
    },
    {
     "data": {
      "text/latex": [
       "$\\displaystyle -7.16666666666667$"
      ],
      "text/plain": [
       "-7.16666666666667"
      ]
     },
     "metadata": {},
     "output_type": "display_data"
    }
   ],
   "source": [
    "phi = sym.nsimplify(5/9/120e3)\n",
    "display('phi =', phi)\n",
    "M_DB = - phi * 180000 - 6\n",
    "display('M_DB =', M_DB)\t\n",
    "display('M_DB =', M_DB.evalf())\n",
    "M_DC = -72000 * phi\n",
    "display('M_DC =', M_DC)\n",
    "display('M_DC =', M_DC.evalf())\n",
    "M_AD = 72000 * phi - sym.nsimplify(15/2)\n",
    "display('M_AD =', M_AD)\n",
    "display('M_AD =', M_AD.evalf())\n"
   ]
  }
 ],
 "metadata": {
  "kernelspec": {
   "display_name": "base",
   "language": "python",
   "name": "python3"
  },
  "language_info": {
   "codemirror_mode": {
    "name": "ipython",
    "version": 3
   },
   "file_extension": ".py",
   "mimetype": "text/x-python",
   "name": "python",
   "nbconvert_exporter": "python",
   "pygments_lexer": "ipython3",
   "version": "3.9.18"
  }
 },
 "nbformat": 4,
 "nbformat_minor": 2
}

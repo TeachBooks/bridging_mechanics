{
 "cells": [
  {
   "cell_type": "markdown",
   "metadata": {},
   "source": [
    "(lesson8.2)=\n",
    "# Lesson October 23th\n",
    "\n",
    "During today's lesson you'll work on a complex exercise on the topic of Stiffness discontinuities and Support settlement. Please ask your questions regarding the [homework](homework8.2) as well!\n",
    "\n",
    "## Exercise Support settlement\n",
    "\n",
    "Given the following structure.\n",
    "\n",
    "```{figure} intro_data/structure.svg\n",
    ":align: center\n",
    "```\n",
    "\n",
    "1. Find the moment distribution for $n=1$\n",
    "\n",
    "\n",
    "````{admonition} Solution assignment 1\n",
    ":class: tip, dropdown\n",
    "\n",
    "```{figure} intro_data/M-line.svg\n",
    ":align: center\n",
    "```\n",
    "\n",
    "````\n",
    "\n",
    "## Exercise Stiffness discontinuities\n",
    "\n",
    "2. Find the moment distribution for $n=0$\n",
    "3. Find the moment distribution for $n \\to \\infty$\n",
    "\n",
    "````{admonition} Solution assignment 2\n",
    ":class: tip, dropdown\n",
    "\n",
    "```{figure} intro_data/M-line-2.svg\n",
    ":align: center\n",
    "```\n",
    "\n",
    "````\n",
    "\n",
    "````{admonition} Solution assignment 3\n",
    ":class: tip, dropdown\n",
    "\n",
    "```{figure} intro_data/M-line-3.svg\n",
    ":align: center\n",
    "```\n",
    "````"
   ]
  },
  {
   "cell_type": "code",
   "execution_count": 5,
   "metadata": {
    "tags": [
     "remove-cell"
    ]
   },
   "outputs": [
    {
     "data": {
      "text/latex": [
       "$\\displaystyle \\frac{75}{4}$"
      ],
      "text/plain": [
       "75/4"
      ]
     },
     "metadata": {},
     "output_type": "display_data"
    },
    {
     "data": {
      "text/latex": [
       "$\\displaystyle \\frac{75}{2}$"
      ],
      "text/plain": [
       "75/2"
      ]
     },
     "metadata": {},
     "output_type": "display_data"
    },
    {
     "data": {
      "text/latex": [
       "$\\displaystyle \\frac{75}{4}$"
      ],
      "text/plain": [
       "75/4"
      ]
     },
     "metadata": {},
     "output_type": "display_data"
    },
    {
     "data": {
      "text/latex": [
       "$\\displaystyle - \\frac{75}{4}$"
      ],
      "text/plain": [
       "-75/4"
      ]
     },
     "metadata": {},
     "output_type": "display_data"
    },
    {
     "data": {
      "text/latex": [
       "$\\displaystyle \\frac{75}{4}$"
      ],
      "text/plain": [
       "75/4"
      ]
     },
     "metadata": {},
     "output_type": "display_data"
    }
   ],
   "source": [
    "import sympy as sym\n",
    "\n",
    "EI = sym.nsimplify(25e3)\n",
    "w = sym.nsimplify(0.025)\n",
    "\n",
    "M_B, M_C = sym.symbols('M_B M_C')\n",
    "\n",
    "eq1 = sym.Eq(-M_B * 10 / 3 / EI + w / 10 ,0)\n",
    "M_B_1 = sym.solve(eq1, M_B)[0]\n",
    "\n",
    "eq2 = sym.Eq(M_B * 10 / 3 / EI - w / 10, w / 10)\n",
    "eq3 = sym.Eq(w/10, M_C * 10 / 3 / EI)\n",
    "M_B_2 = sym.solve(eq2, M_B)[0]\n",
    "M_C_2 = sym.solve(eq3, M_C)[0]\n",
    "\n",
    "display(M_B_1, M_B_2, M_C_2)\n",
    "display(M_B_1 - M_B_2, M_C_2)"
   ]
  }
 ],
 "metadata": {
  "kernelspec": {
   "display_name": "base",
   "language": "python",
   "name": "python3"
  },
  "language_info": {
   "codemirror_mode": {
    "name": "ipython",
    "version": 3
   },
   "file_extension": ".py",
   "mimetype": "text/x-python",
   "name": "python",
   "nbconvert_exporter": "python",
   "pygments_lexer": "ipython3",
   "version": "3.9.18"
  }
 },
 "nbformat": 4,
 "nbformat_minor": 2
}

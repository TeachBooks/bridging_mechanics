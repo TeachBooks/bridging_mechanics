{
 "cells": [
  {
   "cell_type": "markdown",
   "metadata": {},
   "source": [
    "(lesson3.1)=\n",
    "# Lesson Monday September 16th\n",
    "\n",
    "During today's lesson you'll work on a complex exercise on the topic of 'Euler-Bernoulli'. Please ask your questions regarding the [homework](homework3.1) as well!\n",
    "\n",
    "## Exercise Euler-Bernoulli\n",
    "\n",
    "Given the following structure.\n",
    "\n",
    "```{figure} intro_data/figure1.svg\n",
    ":align: center\n",
    "```\n",
    "\n",
    "1. Use the Euler-Bernoulli equations to find the displacement halfway.\n",
    "\n",
    "Given the following structure.\n",
    "\n",
    "```{figure} intro_data/figure2.svg\n",
    ":align: center\n",
    "```\n",
    "\n",
    "2. Use the Euler-Bernoulli equations to find the rotation at the left support\n",
    "\n",
    "Given the following structure.\n",
    "\n",
    "```{figure} intro_data/figure3.svg\n",
    ":align: center\n",
    "```\n",
    "\n",
    "3. Use the Euler-Bernoulli equations to find the displacement of the top of the structure."
   ]
  },
  {
   "cell_type": "code",
   "execution_count": 16,
   "metadata": {
    "tags": [
     "remove-cell"
    ]
   },
   "outputs": [
    {
     "data": {
      "text/plain": [
       "{C_1: 20, C_2: -160, C_3: 0, C_4: 0}"
      ]
     },
     "metadata": {},
     "output_type": "display_data"
    },
    {
     "data": {
      "text/latex": [
       "$\\displaystyle 0.03$"
      ],
      "text/plain": [
       "0.0300000000000000"
      ]
     },
     "metadata": {},
     "output_type": "display_data"
    }
   ],
   "source": [
    "import sympy as sym\n",
    "\n",
    "x, C_1, C_2, C_3, C_4 = sym.symbols('x C_1 C_2 C_3 C_4')\n",
    "\n",
    "L, F, T, EI = sym.symbols('L F T EI')\n",
    "\n",
    "L = 6\n",
    "F = 20\n",
    "T = 40\n",
    "EI = 21000\n",
    "\n",
    "q = 0\n",
    "V = -sym.integrate(q, x) + C_1\n",
    "M = sym.integrate(V, x) + C_2\n",
    "kappa = M/EI\n",
    "phi = sym.integrate(kappa, x) + C_3\n",
    "w = -sym.integrate(phi, x) + C_4\n",
    "\n",
    "eq1 = sym.Eq(w.subs(x,0),0)\n",
    "eq2 = sym.Eq(phi.subs(x,0),0)\n",
    "eq3 = sym.Eq(V.subs(x,L),F)\n",
    "eq4 = sym.Eq(M.subs(x,L),-T)\n",
    "\n",
    "sol = sym.solve([eq1,eq2,eq3,eq4],(C_1,C_2,C_3,C_4))\n",
    "display(sol)\n",
    "\n",
    "display(w.subs(sol).simplify().subs(x,L/2))"
   ]
  },
  {
   "cell_type": "code",
   "execution_count": 1,
   "metadata": {
    "tags": [
     "remove-cell"
    ]
   },
   "outputs": [
    {
     "data": {
      "text/latex": [
       "$\\displaystyle - 12 x$"
      ],
      "text/plain": [
       "-12*x"
      ]
     },
     "metadata": {},
     "output_type": "display_data"
    },
    {
     "data": {
      "text/plain": [
       "{C_1: -384/5, C_2: 0, C_3: 8/125, C_4: 0}"
      ]
     },
     "metadata": {},
     "output_type": "display_data"
    },
    {
     "data": {
      "text/latex": [
       "$\\displaystyle 0.064$"
      ],
      "text/plain": [
       "0.0640000000000000"
      ]
     },
     "metadata": {},
     "output_type": "display_data"
    },
    {
     "data": {
      "text/latex": [
       "$\\displaystyle -0.144$"
      ],
      "text/plain": [
       "-0.144000000000000"
      ]
     },
     "metadata": {},
     "output_type": "display_data"
    }
   ],
   "source": [
    "import sympy as sym\n",
    "\n",
    "x, C_1, C_2, C_3, C_4 = sym.symbols('x C_1 C_2 C_3 C_4')\n",
    "\n",
    "L, q, EI = sym.symbols('L q EI')\n",
    "\n",
    "L = sym.S(8)\n",
    "q = sym.S(96)\n",
    "EI = 6400\n",
    "\n",
    "q = -q/L*x\n",
    "display(q)\n",
    "V = -sym.integrate(q, x) + C_1\n",
    "M = sym.integrate(V, x) + C_2\n",
    "kappa = M/EI\n",
    "phi = sym.integrate(kappa, x) + C_3\n",
    "w = -sym.integrate(phi, x) + C_4\n",
    "\n",
    "eq1 = sym.Eq(w.subs(x,0),0)\n",
    "eq2 = sym.Eq(M.subs(x,0),0)\n",
    "eq3 = sym.Eq(w.subs(x,L),0)\n",
    "eq4 = sym.Eq(phi.subs(x,L),0)\n",
    "\n",
    "sol = sym.solve([eq1,eq2,eq3,eq4],(C_1,C_2,C_3,C_4))\n",
    "display(sol)\n",
    "\n",
    "display(phi.subs(sol).simplify().subs(x,0).evalf())\n",
    "display(w.subs(sol).simplify().subs(x,L/2).evalf())"
   ]
  },
  {
   "cell_type": "code",
   "execution_count": 37,
   "metadata": {
    "tags": [
     "remove-cell"
    ]
   },
   "outputs": [
    {
     "data": {
      "text/plain": [
       "{C_1: -16, C_2: 0, C_3: 20, C_4: -1/250}"
      ]
     },
     "metadata": {},
     "output_type": "display_data"
    },
    {
     "data": {
      "text/latex": [
       "$\\displaystyle 0.005$"
      ],
      "text/plain": [
       "0.00500000000000000"
      ]
     },
     "metadata": {},
     "output_type": "display_data"
    }
   ],
   "source": [
    "import sympy as sym\n",
    "\n",
    "x, C_1, C_2, C_3, C_4 = sym.symbols('x C_1 C_2 C_3 C_4')\n",
    "\n",
    "EA, L1, L2, q, EI, F = sym.symbols('EA L1 L2 q EI F')\n",
    "\n",
    "L1 = sym.S(4)\n",
    "L2 = sym.S(5)\n",
    "#q = sym.S(96)\n",
    "EA = 20000\n",
    "\n",
    "q_1 = -8\n",
    "N_1 = -sym.integrate(q_1, x) + C_1\n",
    "eps_1  = N_1/EA\n",
    "u_1 = sym.integrate(eps_1, x) + C_2\n",
    "\n",
    "q_2 = 0\n",
    "N_2 = -sym.integrate(q_2, x) + C_3\n",
    "eps_2  = N_2/EA\n",
    "u_2 = sym.integrate(eps_2, x) + C_4\n",
    "\n",
    "eq1 = sym.Eq(u_1.subs(x,0),0)\n",
    "eq2 = sym.Eq(u_1.subs(x,L1),0)\n",
    "eq3 = sym.Eq(u_2.subs(x,L1),0)\n",
    "eq4 = sym.Eq(N_2.subs(x,L1+L2),20)\n",
    "\n",
    "sol = sym.solve([eq1,eq2,eq3,eq4],(C_1,C_2,C_3,C_4))\n",
    "display(sol)\n",
    "\n",
    "display(u_2.subs(sol).simplify().subs(x,L1+L2).evalf())"
   ]
  },
  {
   "cell_type": "markdown",
   "metadata": {},
   "source": [
    "````{admonition} Solution assignment 1\n",
    ":class: tip, dropdown\n",
    "\n",
    "$0.03 \\text{ m}$ ↓\n",
    "````\n",
    "\n",
    "````{admonition} Solution assignment 2\n",
    ":class: tip, dropdown\n",
    "$0.064 \\text{ rad}$ ⟲\n",
    "\n",
    "````\n",
    "\n",
    "````{admonition} Solution assignment 3\n",
    ":class: tip, dropdown\n",
    "\n",
    "$0.005 \\text{ m}$ ↑\n",
    "````"
   ]
  }
 ],
 "metadata": {
  "kernelspec": {
   "display_name": "base",
   "language": "python",
   "name": "python3"
  },
  "language_info": {
   "codemirror_mode": {
    "name": "ipython",
    "version": 3
   },
   "file_extension": ".py",
   "mimetype": "text/x-python",
   "name": "python",
   "nbconvert_exporter": "python",
   "pygments_lexer": "ipython3",
   "version": "3.9.18"
  }
 },
 "nbformat": 4,
 "nbformat_minor": 2
}

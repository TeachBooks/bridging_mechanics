{
 "cells": [
  {
   "cell_type": "markdown",
   "metadata": {},
   "source": [
    "(lesson6.1)=\n",
    "# Lesson October 7th\n",
    "\n",
    "During today's lesson you'll work on a complex exercise on the topic of Force method for frame structures. Please ask your questions regarding the [homework](homework6.1) as well!\n",
    "\n",
    "## Exercise Force method for frame structures\n",
    "\n",
    "Given the following structure.\n",
    "\n",
    "```{figure} intro_data/structure.svg\n",
    ":align: center\n",
    "```\n",
    "\n",
    "1. Find the bending moment distribution\n",
    "2. Find the normal force distribution\n",
    "\n",
    "\n",
    "````{admonition} Solution assignment 1\n",
    ":class: tip, dropdown\n",
    "\n",
    "```{figure} ./intro_data/M-line.svg\n",
    ":align: center\n",
    "```\n",
    "````\n",
    "\n",
    "\n",
    "````{admonition} Solution assignment 2\n",
    ":class: tip, dropdown\n",
    "\n",
    "```{figure} ./intro_data/N-line.svg\n",
    ":align: center\n",
    "```\n",
    "\n",
    "````\n"
   ]
  },
  {
   "cell_type": "code",
   "execution_count": 28,
   "metadata": {
    "tags": [
     "remove-cell"
    ]
   },
   "outputs": [
    {
     "data": {
      "text/latex": [
       "$\\displaystyle \\frac{2 M_{D}}{EI} = - \\frac{4 M_{B BD}}{3 EI} - \\frac{8 M_{D}}{3 EI}$"
      ],
      "text/plain": [
       "Eq(2*M_D/EI, -4*M_B_BD/(3*EI) - 8*M_D/(3*EI))"
      ]
     },
     "metadata": {},
     "output_type": "display_data"
    },
    {
     "data": {
      "text/latex": [
       "$\\displaystyle \\frac{10 M_{B AB}}{3 EI} = \\frac{8 M_{B BD}}{3 EI} + \\frac{4 M_{D}}{3 EI}$"
      ],
      "text/plain": [
       "Eq(10*M_B_AB/(3*EI), 8*M_B_BD/(3*EI) + 4*M_D/(3*EI))"
      ]
     },
     "metadata": {},
     "output_type": "display_data"
    },
    {
     "data": {
      "text/latex": [
       "$\\displaystyle \\frac{10 M_{B AB}}{3 EI} = \\frac{2 M_{B BC}}{EI} + \\frac{99}{EI}$"
      ],
      "text/plain": [
       "Eq(10*M_B_AB/(3*EI), 2*M_B_BC/EI + 99/EI)"
      ]
     },
     "metadata": {},
     "output_type": "display_data"
    },
    {
     "data": {
      "text/plain": [
       "{M_B_AB: 12, M_B_BC: -59/2, M_B_BD: 35/2, M_D: -5}"
      ]
     },
     "metadata": {},
     "output_type": "display_data"
    },
    {
     "name": "stdout",
     "output_type": "stream",
     "text": [
      "49.5\n",
      "34.75\n",
      "84.25\n"
     ]
    }
   ],
   "source": [
    "import sympy as sym\n",
    "\n",
    "q = sym.symbols('q')\n",
    "\n",
    "q = 11\n",
    "EI = sym.symbols('EI')\n",
    "M_D, M_B_BD, M_B_AB, M_B_BC = sym.symbols('M_D M_B_BD M_B_AB M_B_BC')\n",
    "\n",
    "eq1 = sym.Eq(M_D * 6 / 3 / EI, - M_D * 8 / 3 / EI - M_B_BD * 8 / 6 / EI)\n",
    "eq2 = sym.Eq(M_B_AB * 10 / 3 / EI, M_B_BD * 8 / 3 / EI + M_D * 8 / 6 / EI)\n",
    "eq3 = sym.Eq(M_B_AB * 10 / 3 / EI, M_B_BC * 6 / 3 / EI + q * 6 ** 3 / EI / 24)\n",
    "eq4 = sym.Eq(M_B_BD + M_B_AB + M_B_BC,0)\n",
    "display(eq1, eq2, eq3)\n",
    "\n",
    "sol = sym.solve([eq1, eq2, eq3, eq4], (M_D, M_B_BD, M_B_AB, M_B_BC))\n",
    "display(sol)\n",
    "\n",
    "print(1/8 * 11 * 6**2)\n",
    "print(-59/2/2+1/8*11*6**2)\n",
    "print(-59/2/2+1/8*11*6**2*2)"
   ]
  }
 ],
 "metadata": {
  "kernelspec": {
   "display_name": "base",
   "language": "python",
   "name": "python3"
  },
  "language_info": {
   "codemirror_mode": {
    "name": "ipython",
    "version": 3
   },
   "file_extension": ".py",
   "mimetype": "text/x-python",
   "name": "python",
   "nbconvert_exporter": "python",
   "pygments_lexer": "ipython3",
   "version": "3.9.18"
  }
 },
 "nbformat": 4,
 "nbformat_minor": 2
}

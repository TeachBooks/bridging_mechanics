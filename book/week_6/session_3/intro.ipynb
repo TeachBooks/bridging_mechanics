{
 "cells": [
  {
   "cell_type": "markdown",
   "metadata": {},
   "source": [
    "(lesson6.3)=\n",
    "# Lesson October 11th\n",
    "\n",
    "During today's lesson you'll work on a complex exercise on the topic of Force method for frames, or more specifically 'hoekveranderingsvergelijkingen' with moveable nodes. Please ask your questions regarding the [homework](homework6.3) as well!\n",
    "\n",
    "## Exercise 'Hoekveranderingsvergelijkingen' with moveable nodes\n",
    "\n",
    "Given the following structure.\n",
    "\n",
    "```{figure} intro_data/structure.svg\n",
    ":align: center\n",
    "```\n",
    "\n",
    "1. Find the bending moment distribution\n",
    "2. Find the displacement of $\\text{E}$\n",
    "\n",
    "````{admonition} Solution assignment 1\n",
    ":class: tip, dropdown\n",
    "\n",
    "```{figure} intro_data/mline.svg\n",
    ":align: center\n",
    "```\n",
    "\n",
    "````\n",
    "\n",
    "````{admonition} Solution assignment 2\n",
    ":class: tip, dropdown\n",
    "\n",
    "- $u_\\text{E,v} \\approx 74.4391 \\text{ mm} $ (↓)\n",
    "- $u_\\text{E,h} \\approx 40 \\text{ mm} $ (→)\n",
    "\n",
    "````"
   ]
  },
  {
   "cell_type": "code",
   "execution_count": 28,
   "metadata": {
    "tags": [
     "remove-cell"
    ]
   },
   "outputs": [
    {
     "name": "stdout",
     "output_type": "stream",
     "text": [
      "36100\n"
     ]
    },
    {
     "data": {
      "image/png": "[encoded data removed]",
      "text/latex": [
       "$\\displaystyle \\frac{M_{b}}{108300} - 2 \\theta = - \\frac{M_{b}}{18050} + \\frac{M_{c}}{36100} + \\theta - \\frac{693}{18050}$"
      ],
      "text/plain": [
       " M_b              M_b     M_c         693 \n",
       "────── - 2⋅θ = - ───── + ───── + θ - ─────\n",
       "108300           18050   36100       18050"
      ]
     },
     "metadata": {},
     "output_type": "display_data"
    },
    {
     "data": {
      "image/png": "[encoded data removed]",
      "text/latex": [
       "$\\displaystyle \\frac{M_{b}}{36100} - \\frac{M_{c}}{18050} + \\theta + \\frac{693}{18050} = \\frac{M_{c}}{27075} - \\theta$"
      ],
      "text/plain": [
       " M_b     M_c         693     M_c     \n",
       "───── - ───── + θ + ───── = ───── - θ\n",
       "36100   18050       18050   27075    "
      ]
     },
     "metadata": {},
     "output_type": "display_data"
    },
    {
     "data": {
      "image/png": "[encoded data removed]",
      "text/latex": [
       "$\\displaystyle - 3 M_{b} - 2 M_{c} + 1848 = 0$"
      ],
      "text/plain": [
       "-3⋅M_b - 2⋅M_c + 1848 = 0"
      ]
     },
     "metadata": {},
     "output_type": "display_data"
    },
    {
     "data": {
      "image/png": "[encoded data removed]",
      "text/latex": [
       "$\\displaystyle \\left\\{ M_{b} : 162, \\  M_{c} : 681, \\  \\theta : \\frac{1}{100}\\right\\}$"
      ],
      "text/plain": [
       "{M_b: 162, M_c: 681, θ: 1/100}"
      ]
     },
     "metadata": {},
     "output_type": "display_data"
    },
    {
     "data": {
      "image/png": "[encoded data removed]",
      "text/latex": [
       "$\\displaystyle \\left\\{ M_{b} : 162.0, \\  M_{c} : 681.0, \\  \\theta : 0.01\\right\\}$"
      ],
      "text/plain": [
       "{M_b: 162.0, M_c: 681.0, θ: 0.01}"
      ]
     },
     "metadata": {},
     "output_type": "display_data"
    }
   ],
   "source": [
    "import sympy as sym\n",
    "sym.init_printing()\n",
    "\n",
    "a, M_b, M_c, EI, theta, F = sym.symbols('a, M_b, M_c, EI, theta, F')\n",
    "\n",
    "F = sym.nsimplify(616)\n",
    "EI = 36100\n",
    "print(EI)\n",
    "a = 1\n",
    "\n",
    "eq1 = sym.Eq(M_b * a * sym.sqrt(13) / 3 / EI / sym.sqrt(13) - theta * 2, -M_b * 6 * a / EI / 3 + M_c * 6 * a / EI / 6 - F * (6 * a)**2 / EI / 16 + theta)\n",
    "eq2 = sym.Eq(M_b * 6 * a / EI / 6 - M_c * 6 * a / EI / 3 + F * (6 * a)**2 / EI / 16 + theta, M_c * 4 * a / EI / 3 - theta)\n",
    "eq3 = sym.Eq(-M_b * 2 - M_b - M_c - M_c + F * 3 * a, 0)\n",
    "\n",
    "display(eq1, eq2, eq3)\n",
    "\n",
    "sol = sym.solve([eq1, eq2, eq3], (M_b, M_c, theta))\n",
    "display(sol)\n",
    "display({key: value.evalf() for key, value in sol.items()})\n"
   ]
  }
 ],
 "metadata": {
  "kernelspec": {
   "display_name": "base",
   "language": "python",
   "name": "python3"
  },
  "language_info": {
   "codemirror_mode": {
    "name": "ipython",
    "version": 3
   },
   "file_extension": ".py",
   "mimetype": "text/x-python",
   "name": "python",
   "nbconvert_exporter": "python",
   "pygments_lexer": "ipython3",
   "version": "3.9.18"
  }
 },
 "nbformat": 4,
 "nbformat_minor": 2
}

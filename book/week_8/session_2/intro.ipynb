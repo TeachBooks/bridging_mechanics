{
 "cells": [
  {
   "cell_type": "markdown",
   "metadata": {},
   "source": [
    "(lesson8.2)=\n",
    "# Lesson October 23th\n",
    "\n",
    "During today's lesson you'll work on a complex exercise on the topic of Stiffness discontinuities and Support settlement. Please ask your questions regarding the [homework](homework8.2) as well!\n",
    "\n",
    "## Exercise Support settlement\n",
    "\n",
    "Given the following structure. Use the horizontal displacement at $\\text{D}$ as the degree of freedom (→).\n",
    "\n",
    "```{figure} intro_data/structure.svg\n",
    ":align: center\n",
    "```\n",
    "\n",
    "1. Find the relation of the normal force in $\\text{CD}$ in terms of the degree of freedom $w_\\text{D}$.\n",
    "2. Solve the value of the degree of freedom.\n",
    "3. Find the bending moment distribution.\n",
    "\n",
    "````{admonition} Solution assignment 1\n",
    ":class: tip, dropdown\n",
    "\n",
    "In terms of the horizontal displacement at $\\text{D}$:\n",
    "\n",
    "- $N_\\text{CD} = 45−1500 w_D$\n",
    "- $N_\\text{CD} = 3000 w_D - 11.25$\n",
    "\n",
    "````\n",
    "\n",
    "````{admonition} Solution assignment 2\n",
    ":class: tip, dropdown\n",
    "\n",
    "$w_D = 1.25 \\text{ cm}$ (→)\n",
    "\n",
    "````\n",
    "\n",
    "````{admonition} Solution assignment 3\n",
    ":class: tip, dropdown\n",
    "\n",
    "```{figure} intro_data/M-line.svg\n",
    ":align: center\n",
    "```\n",
    "````"
   ]
  },
  {
   "cell_type": "code",
   "execution_count": 79,
   "metadata": {
    "tags": [
     "remove-cell"
    ]
   },
   "outputs": [
    {
     "data": {
      "text/latex": [
       "$\\displaystyle 45 - 1500 w_{F}$"
      ],
      "text/plain": [
       "45 - 1500*w_F"
      ]
     },
     "metadata": {},
     "output_type": "display_data"
    },
    {
     "data": {
      "text/latex": [
       "$\\displaystyle 3000 w_{F} - \\frac{45}{4}$"
      ],
      "text/plain": [
       "3000*w_F - 45/4"
      ]
     },
     "metadata": {},
     "output_type": "display_data"
    },
    {
     "data": {
      "text/latex": [
       "$\\displaystyle \\frac{1}{80}$"
      ],
      "text/plain": [
       "1/80"
      ]
     },
     "metadata": {},
     "output_type": "display_data"
    }
   ],
   "source": [
    "import sympy as sym\n",
    "\n",
    "EA, EI, F, L_BE, L_CF, L_EF = sym.symbols('EA EI F L_BE L_CF L_EF')\n",
    "N_EF = sym.symbols('N_EF')\n",
    "w_F = sym.symbols('w_F')\n",
    "\n",
    "#L_BE = 6\n",
    "#L_CF = 4\n",
    "EI = 500000\n",
    "EA = 20000\n",
    "F = sym.nsimplify(45)\n",
    "L_EF = sym.nsimplify(10)\n",
    "L_BE = L_EF/2\n",
    "\n",
    "Eq1 = sym.Eq(w_F, F * L_EF **3 / (EI) / 3 - N_EF * L_EF **3 / EI / 3)\n",
    "N_EF_1 = sym.solve(Eq1, N_EF)[0]\n",
    "display(N_EF_1)\n",
    "\n",
    "Eq2 = sym.Eq(w_F - N_EF * L_BE / EA , N_EF * L_BE**3 / EI / 3 + L_BE **3 / EI / 3 * sym.nsimplify(45))\n",
    "N_EF_2 = sym.solve(Eq2, N_EF)[0]\n",
    "display(N_EF_2)\n",
    "\n",
    "Eq3 = sym.Eq(N_EF_1, N_EF_2)\n",
    "w_F_sol = sym.solve(Eq3, w_F)[0]\n",
    "display(w_F_sol)\n",
    "display(N_EF_1.subs(w_F, w_F_sol).evalf())"
   ]
  }
 ],
 "metadata": {
  "kernelspec": {
   "display_name": "base",
   "language": "python",
   "name": "python3"
  },
  "language_info": {
   "codemirror_mode": {
    "name": "ipython",
    "version": 3
   },
   "file_extension": ".py",
   "mimetype": "text/x-python",
   "name": "python",
   "nbconvert_exporter": "python",
   "pygments_lexer": "ipython3",
   "version": "3.9.18"
  }
 },
 "nbformat": 4,
 "nbformat_minor": 2
}

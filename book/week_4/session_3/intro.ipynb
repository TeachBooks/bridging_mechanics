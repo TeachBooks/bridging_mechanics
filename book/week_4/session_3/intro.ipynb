{
 "cells": [
  {
   "cell_type": "markdown",
   "metadata": {},
   "source": [
    "(lesson4.3)=\n",
    "# Lesson Friday September 25th\n",
    "\n",
    "During today's lesson you'll work on an exercise on the topic of the force method for truss structures. Please ask your questions regarding the [homework](homework4.3) as well!\n",
    "\n",
    "## Exercise force method for truss structures\n",
    "\n",
    "Given the following structure.\n",
    "\n",
    "```{figure} intro_data/structure.svg\n",
    ":align: center\n",
    "```\n",
    "\n",
    "1. Find the normal force in element $\\text{BC}$ and $\\text{BE}$\n",
    "2. Find the displacement of joint $\\text{E}$\n",
    "\n",
    "````{admonition} Solution assignment 1\n",
    ":class: tip, dropdown\n",
    "\n",
    "$N_\\text{BE} \\approx 3.074 \\text{ kN}$\n",
    "\n",
    "$N_\\text{BC} \\approx 2.273 \\text{ kN}$\n",
    "\n",
    "````\n",
    "\n",
    "````{admonition} Solution assignment 2\n",
    ":class: tip, dropdown\n",
    "\n",
    "$w_\\text{E} \\approx 6.147 \\text{ mm}$ ↓\n",
    "\n",
    "````\n"
   ]
  },
  {
   "cell_type": "code",
   "execution_count": 30,
   "metadata": {
    "tags": [
     "remove-cell"
    ]
   },
   "outputs": [
    {
     "data": {
      "text/latex": [
       "$\\displaystyle \\frac{26000}{3} - \\frac{52 N_{BE}}{25}$"
      ],
      "text/plain": [
       "26000/3 - 52*N_BE/25"
      ]
     },
     "metadata": {},
     "output_type": "display_data"
    },
    {
     "data": {
      "text/latex": [
       "$\\displaystyle \\frac{2197}{300000} - \\frac{2197 N_{BE}}{1250000000}$"
      ],
      "text/plain": [
       "2197/300000 - 2197*N_BE/1250000000"
      ]
     },
     "metadata": {},
     "output_type": "display_data"
    },
    {
     "data": {
      "text/latex": [
       "$\\displaystyle \\frac{2197}{93750} - \\frac{2197 N_{BE}}{390625000}$"
      ],
      "text/plain": [
       "2197/93750 - 2197*N_BE/390625000"
      ]
     },
     "metadata": {},
     "output_type": "display_data"
    },
    {
     "data": {
      "text/latex": [
       "$\\displaystyle \\frac{N_{BE}}{500000}$"
      ],
      "text/plain": [
       "N_BE/500000"
      ]
     },
     "metadata": {},
     "output_type": "display_data"
    },
    {
     "data": {
      "text/latex": [
       "$\\displaystyle 3073.67301827136$"
      ],
      "text/plain": [
       "3073.67301827136"
      ]
     },
     "metadata": {},
     "output_type": "display_data"
    },
    {
     "data": {
      "text/latex": [
       "$\\displaystyle \\frac{109850000}{35739}$"
      ],
      "text/plain": [
       "109850000/35739"
      ]
     },
     "metadata": {},
     "output_type": "display_data"
    },
    {
     "data": {
      "text/latex": [
       "$\\displaystyle 2273.42678866225$"
      ],
      "text/plain": [
       "2273.42678866225"
      ]
     },
     "metadata": {},
     "output_type": "display_data"
    },
    {
     "data": {
      "text/latex": [
       "$\\displaystyle \\frac{81250000}{35739}$"
      ],
      "text/plain": [
       "81250000/35739"
      ]
     },
     "metadata": {},
     "output_type": "display_data"
    },
    {
     "data": {
      "text/latex": [
       "$\\displaystyle 0.00614734603654271$"
      ],
      "text/plain": [
       "0.00614734603654271"
      ]
     },
     "metadata": {},
     "output_type": "display_data"
    },
    {
     "data": {
      "text/latex": [
       "$\\displaystyle 0.0733784980278235$"
      ],
      "text/plain": [
       "0.0733784980278235"
      ]
     },
     "metadata": {},
     "output_type": "display_data"
    }
   ],
   "source": [
    "EA = sym.nsimplify(200e9*25e-6)\n",
    "\n",
    "import sympy as sym\n",
    "\n",
    "N_BC = sym.Symbol('N_BC')\n",
    "N_BE = sym.Symbol('N_BE')\n",
    "\n",
    "eq1 = sym.nsimplify(sym.Eq(N_BC * 3.6 / (3.6**2 + 1.5**2)**0.5 * 1.5 - 4000 * (1.5+1.5) + N_BE * 3.6 / (3.6**2 + (1.5 + 1.5 + 1.8)**2)**0.5 * (1.5+1.5+1.8), 0))\n",
    "\n",
    "N_BC_sol = sym.solve(eq1, N_BC)[0]\n",
    "display(N_BC_sol)\n",
    "\n",
    "w_C = N_BC_sol * sym.nsimplify((3.6**2 + 1.5**2)**0.5 / EA / 3.6 * (3.6**2 + 1.5**2)**0.5)\n",
    "display(w_C)\n",
    "\n",
    "w_E_1 = w_C / sym.nsimplify((3 / 2)) * sym.nsimplify((4+8/10))\n",
    "display(w_E_1)\n",
    "\n",
    "w_E_2 = N_BE * sym.nsimplify((3.6**2 + (1.5 + 1.5 + 1.8)**2)**0.5 / EA / 3.6 * (3.6**2 + (1.5 + 1.5 + 1.8)**2)**0.5)\n",
    "\n",
    "display(w_E_2)\n",
    "\n",
    "eq2 = sym.Eq(w_E_1, w_E_2)\n",
    "N_BE_sol = sym.solve(eq2, N_BE)[0]\n",
    "display(N_BE_sol.evalf())\n",
    "display(N_BE_sol)\n",
    "display(N_BC_sol.subs(N_BE, N_BE_sol).evalf())\n",
    "display(N_BC_sol.subs(N_BE, N_BE_sol))\n",
    "\n",
    "display(w_E_2.subs(N_BE, N_BE_sol).evalf())\n",
    "\n",
    "display((sym.atan(w_E_2.subs(N_BE, N_BE_sol) / sym.nsimplify((4+8/10)))*180/sym.pi).evalf())"
   ]
  }
 ],
 "metadata": {
  "kernelspec": {
   "display_name": "base",
   "language": "python",
   "name": "python3"
  },
  "language_info": {
   "codemirror_mode": {
    "name": "ipython",
    "version": 3
   },
   "file_extension": ".py",
   "mimetype": "text/x-python",
   "name": "python",
   "nbconvert_exporter": "python",
   "pygments_lexer": "ipython3",
   "version": "3.9.18"
  }
 },
 "nbformat": 4,
 "nbformat_minor": 2
}

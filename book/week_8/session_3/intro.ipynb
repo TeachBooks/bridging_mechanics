{
 "cells": [
  {
   "cell_type": "markdown",
   "metadata": {},
   "source": [
    "(lesson8.3)=\n",
    "# Lesson October 25th\n",
    "\n",
    "During today's lesson you'll work on a complex exercise on the topic of Temperature influences. Please ask your questions regarding the [homework](homework8.3) as well!\n",
    "\n",
    "## Exercise Temperature influences\n",
    "\n",
    "Given the following structure. \n",
    "\n",
    "```{figure} intro_data/struct.svg\n",
    ":align: center\n",
    "```\n",
    "\n",
    "1. Find the moment line due to the temperature influence on $\\text{AC}$\n",
    "2. Find the moment line due to the temperature influence on $\\text{CD}$\n",
    "3. Find the total moment line.\n",
    "\n",
    "````{admonition} Solution assignment 1\n",
    ":class: tip, dropdown\n",
    "\n",
    "```{figure} intro_data/M-line_1.svg\n",
    ":align: center\n",
    "```\n",
    "\n",
    "````\n",
    "\n",
    "````{admonition} Solution assignment 2\n",
    ":class: tip, dropdown\n",
    "\n",
    "```{figure} intro_data/M-line_2.svg\n",
    ":align: center\n",
    "```\n",
    "\n",
    "````\n",
    "\n",
    "````{admonition} Solution assignment 3\n",
    ":class: tip, dropdown\n",
    "\n",
    "```{figure} intro_data/M-line_3.svg\n",
    ":align: center\n",
    "```\n",
    "\n",
    "```\n",
    "````"
   ]
  },
  {
   "cell_type": "markdown",
   "metadata": {},
   "source": []
  }
 ],
 "metadata": {
  "kernelspec": {
   "display_name": "base",
   "language": "python",
   "name": "python3"
  },
  "language_info": {
   "codemirror_mode": {
    "name": "ipython",
    "version": 3
   },
   "file_extension": ".py",
   "mimetype": "text/x-python",
   "name": "python",
   "nbconvert_exporter": "python",
   "pygments_lexer": "ipython3",
   "version": "3.9.18"
  }
 },
 "nbformat": 4,
 "nbformat_minor": 2
}

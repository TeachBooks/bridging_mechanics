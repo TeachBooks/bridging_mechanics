{
 "cells": [
  {
   "cell_type": "markdown",
   "metadata": {},
   "source": [
    "(lesson5.1)=\n",
    "# Lesson Monday September 30th\n",
    "\n",
    "During today's lesson it's demonstrated how you to use the force method for statically indeterminate problems which only involve bending\n",
    "\n",
    "## Demonstration\n",
    "Given a structure as shown below:\n",
    "\n",
    "```{figure} ./intro_data/structure.svg\n",
    ":align: center\n",
    "\n",
    "Structure\n",
    "```\n",
    "\n",
    "We'll apply the force method, specifically, the 'hoekveranderingsvergelijkingen'.\n",
    "\n",
    "### Define mechanism compatibility conditions\n",
    "\n",
    "To apply the 'hoekveranderingsvergelijkingen', we apply hinges, with statically indeterminate moments $M_\\text{B}$ and $M_\\text{D}$ and compatibility conditions $\\varphi _{\\rm{B}}^{{\\rm{AB}}} = \\varphi _{\\rm{B}}^{{\\rm{BD}}} $ and $\\varphi _{\\rm{D}}^{{\\rm{BD}}} = \\varphi _{\\rm{D}}^{{\\rm{DC}}}$\n",
    "\n",
    "```{figure} ./intro_data/statically_determinate.svg\n",
    ":align: center\n",
    "\n",
    "Mechanism with compatibility conditions\n",
    "```\n",
    "\n",
    "The structure has now become a mechanism, which will lead to rigid body rotations next to the bending. The deformation due to the rigid body rotations of the mechanism can be found as:\n",
    "\n",
    "```{figure} ./intro_data/mechanism.svg\n",
    ":align: center\n",
    "\n",
    "Deformation mechanisms\n",
    "```\n",
    "\n",
    "The deformations due to bending can be sketched as follows\n",
    "\n",
    "```{figure} ./intro_data/bending.svg\n",
    ":align: center\n",
    "\n",
    "Deformation due to bending\n",
    "```\n",
    "\n",
    "These rotations can be found using the forget-me-nots and the rotations of each of the elements due to the rigid body rotations:\n",
    "\n",
    "- $ \\varphi _{\\rm{B}}^{{\\rm{AB}}} = \\cfrac{M_\\text{B}\\cdot 4}{3\\cdot 20000} \\to \\varphi _{\\rm{B}}^{{\\rm{AB}}} = \\cfrac{M_\\text{B}\\cdot 2}{30000} $\n",
    "- $ \\varphi _{\\rm{B}}^{{\\rm{BD}}} = -\\cfrac{M_\\text{B}\\cdot 4}{3\\cdot 20000} - \\cfrac{M_\\text{D}\\cdot 4}{6\\cdot 20000} - \\cfrac{20 \\cdot 4^3}{24 \\cdot20000} - \\theta \\to \\varphi _{\\rm{B}}^{{\\rm{BD}}} = -\\cfrac{M_\\text{B}\\cdot 2}{30000} - \\cfrac{M_\\text{D}}{30000} - \\cfrac{1}{375} - \\theta$\n",
    "- $ \\varphi _{\\rm{D}}^{{\\rm{BD}}} = \\cfrac{M_\\text{B}\\cdot 4}{6\\cdot 20000} + \\cfrac{M_\\text{D}\\cdot 4}{3\\cdot 20000} + \\cfrac{20 \\cdot 4^3}{24 \\cdot20000} - \\theta \\to \\varphi _{\\rm{D}}^{{\\rm{BD}}} = \\cfrac{M_\\text{B}}{30000} + \\cfrac{M_\\text{D}\\cdot 2}{30000} + \\cfrac{1}{375} - \\theta$\n",
    "- $ \\varphi _{\\rm{D}}^{{\\rm{DC}}} = - \\cfrac{M_\\text{D}\\cdot 4 \\sqrt{2}}{3\\cdot 20000 \\sqrt{2}} + \\theta \\to \\varphi _{\\rm{D}}^{{\\rm{DC}}} = -\\cfrac{M_\\text{D}\\cdot 2}{30000} + \\theta$\n",
    "\n",
    "### Solve statically indeterminate structure with compatibility conditions and equilibrium\n",
    "\n",
    "The statically indeterminate forces and unknown rigid body rotation $\\theta$ can now be solved. However, with only two compatibility conditions an additional equation is needed. This follows from equilibrium, in which the virtual work formulation is most efficient. Therefore, the mechanisms can be reused:\n",
    "\n",
    "```{figure} ./intro_data/virtual_work.svg\n",
    ":align: center\n",
    "\n",
    "Mechanism for virtual work calculation\n",
    "```\n",
    "\n",
    "This leads to the virtual work equations: $\\delta A = 0 \\to {M_{\\rm{B}}} \\cdot \\delta \\theta  + 20 \\cdot 4 \\cdot 2\\delta \\theta  - {M_{\\rm{D}}} \\cdot \\delta \\theta  - {M_{\\rm{D}}} \\cdot \\delta \\theta  = 0 \\to {M_{\\rm{B}}} + 160 - 2{M_{\\rm{D}}} = 0$\n",
    "\n",
    "The compatibility conditions are as follows:\n",
    "\n",
    "- $\\varphi _{\\rm{B}}^{{\\rm{AB}}} = \\varphi _{\\rm{B}}^{{\\rm{BD}}} \\to \\cfrac{M_\\text{B}\\cdot 2}{30000} = -\\cfrac{M_\\text{B}\\cdot 2}{30000} - \\cfrac{M_\\text{D}}{30000} - \\cfrac{1}{375} - \\theta \\to \\cfrac{M_\\text{B}\\cdot 4}{30000} + \\cfrac{M_\\text{D}}{30000} + \\cfrac{1}{375} + \\theta = 0$\n",
    "- $\\varphi _{\\rm{D}}^{{\\rm{BD}}} = \\varphi _{\\rm{D}}^{{\\rm{DC}}} \\to \\cfrac{M_\\text{B}}{30000} + \\cfrac{M_\\text{D}\\cdot 2}{30000} + \\cfrac{1}{375} - \\theta = -\\cfrac{M_\\text{D}\\cdot 2}{30000} + \\theta \\to \\cfrac{M_\\text{B}}{30000} + \\cfrac{M_\\text{D}\\cdot 4}{30000} + \\cfrac{1}{375} - 2\\theta = 0$\n",
    "\n",
    "Solving these 3 equations gives:\n",
    "\n",
    "- $M_\\text{B} = -60 \\text{ kNm}$\n",
    "- $M_\\text{D} = 50 \\text{ kNm}$\n",
    "- $\\theta = \\cfrac{11}{3000} \\approx 0.0036667 \\text{ rad}$\n",
    "\n",
    "#### Section force diagrams\n",
    "\n",
    "Given the solved moments, and $\\cfrac{1}{8}\\cdot20\\cdot4^2 = 40 \\text{ kNm}$, the full moment diagram can be drawn:\n",
    "\n",
    "```{figure} ./intro_data/Mlijn.svg\n",
    ":align: center\n",
    "```\n",
    "\n",
    "The deformation signs for the shear forces follow from the M-line\n",
    "\n",
    "```{figure} ./intro_data/Mlijn2.svg\n",
    ":align: center\n",
    "```\n",
    "\n",
    "And the sloped give the shear forces themselves:\n",
    "\n",
    "- $V_\\text{AB} = \\cfrac{60}{4}= 15 \\text{ kN}$\n",
    "- $V_{\\text{B}}^{\\text{BD}} = \\cfrac{60+75}{2} = 67.5 \\text{ kN}$\n",
    "- $V_\\text{D} = \\cfrac{75-50}{2} = 12.5 \\text{ kN}$\n",
    "- $V_\\text{DC} = \\cfrac{50}{4\\sqrt{2}} = 6.25\\sqrt{2} \\text{ kN}$\n",
    "\n",
    "The intersection of the V-line with $0$, which coincides with the maximum moment can be found with $\\cfrac{7.5}{20} = 0.375 \\text{ m}$.\n",
    "\n",
    "This leads to the following shear line:\n",
    "\n",
    "```{figure} ./intro_data/Vlijn.svg\n",
    ":align: center\n",
    "```\n",
    "\n",
    "#### Displacements\n",
    "\n",
    "The nodal displacement can be found using the rigid body deformations:\n",
    "\n",
    "- $u_{x,\\text{A}} = \\cfrac{11}{3000} \\cdot 4 = \\cfrac{11}{750} \\approx 0.01467 \\text{ m}$\n",
    "- $u_{x,\\text{B}} = \\cfrac{11}{3000} \\cdot 4 = \\cfrac{11}{750} \\approx 0.01467 \\text{ m}$\n",
    "- $u_{x,\\text{D}} = \\cfrac{11}{3000} \\cdot 4 = \\cfrac{11}{750} \\approx 0.01467 \\text{ m}$\n",
    "- $u_{z,\\text{D}} = \\cfrac{11}{3000} \\cdot 4 = \\cfrac{11}{750} \\approx 0.01467 \\text{ m}$\n",
    "\n",
    "This, together with the given direction of curvatures from the M-line gives the following displaced structure:\n",
    "\n",
    "```{figure} ./intro_data/displacements.svg\n",
    ":align: center\n",
    "```"
   ]
  },
  {
   "cell_type": "code",
   "execution_count": 4,
   "metadata": {
    "tags": [
     "remove-cell"
    ]
   },
   "outputs": [
    {
     "data": {
      "text/plain": [
       "{M_B: -60, M_D: 50, theta: 11/3000}"
      ]
     },
     "metadata": {},
     "output_type": "display_data"
    },
    {
     "name": "stdout",
     "output_type": "stream",
     "text": [
      "40.0\n"
     ]
    },
    {
     "data": {
      "text/latex": [
       "$\\displaystyle 0.0146666666666667$"
      ],
      "text/plain": [
       "0.0146666666666667"
      ]
     },
     "execution_count": 4,
     "metadata": {},
     "output_type": "execute_result"
    }
   ],
   "source": [
    "import sympy as sym\n",
    "\n",
    "M_B, M_D, theta = sym.symbols('M_B M_D theta')\n",
    "\n",
    "eq1 = sym.nsimplify(sym.Eq(M_B + 160 - 2 * M_D ,0))\n",
    "eq2 = sym.nsimplify(sym.Eq(M_B * 4 / 30000 + M_D / 30000 + 1 / 375 + theta, 0))\n",
    "eq3 = sym.nsimplify(sym.Eq(M_B / 30000 + M_D * 4 / 30000 + 1 / 375 - 2*theta, 0))\n",
    "\n",
    "sol = sym.solve([eq1, eq2, eq3], (M_B, M_D, theta))\n",
    "display(sol)\n",
    "sol[theta].evalf()\n",
    "\n",
    "print(1/8*20*4**2)\n",
    "\n",
    "(sol[theta] * 4).evalf()"
   ]
  }
 ],
 "metadata": {
  "kernelspec": {
   "display_name": "base",
   "language": "python",
   "name": "python3"
  },
  "language_info": {
   "codemirror_mode": {
    "name": "ipython",
    "version": 3
   },
   "file_extension": ".py",
   "mimetype": "text/x-python",
   "name": "python",
   "nbconvert_exporter": "python",
   "pygments_lexer": "ipython3",
   "version": "3.9.18"
  }
 },
 "nbformat": 4,
 "nbformat_minor": 2
}
